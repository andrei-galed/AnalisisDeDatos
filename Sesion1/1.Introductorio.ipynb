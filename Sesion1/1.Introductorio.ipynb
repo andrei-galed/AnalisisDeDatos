{
 "cells": [
  {
   "cell_type": "code",
   "execution_count": null,
   "id": "bffd0d3c",
   "metadata": {},
   "outputs": [],
   "source": [
    "# Primer laboratirio de python"
   ]
  },
  {
   "cell_type": "code",
   "execution_count": null,
   "id": "a6ed08dc",
   "metadata": {},
   "outputs": [
    {
     "name": "stdout",
     "output_type": "stream",
     "text": [
      "HOLA MUNDO\n"
     ]
    }
   ],
   "source": [
    "print('HOLA MUNDO')\n",
    "\n",
    "# Ctrl + k +c te ayuda da comentar rapido \n",
    "    \n"
   ]
  },
  {
   "cell_type": "markdown",
   "id": "a440ce1f",
   "metadata": {},
   "source": [
    "Comentarios\n"
   ]
  },
  {
   "cell_type": "code",
   "execution_count": 2,
   "id": "0ecea929",
   "metadata": {},
   "outputs": [],
   "source": [
    "# comentario "
   ]
  },
  {
   "cell_type": "code",
   "execution_count": 3,
   "id": "88f34208",
   "metadata": {},
   "outputs": [
    {
     "data": {
      "text/plain": [
       "'\\nEste comentario tiene varias lineas \\nd\\nc\\nf\\n'"
      ]
     },
     "execution_count": 3,
     "metadata": {},
     "output_type": "execute_result"
    }
   ],
   "source": [
    "'''\n",
    "Este comentario tiene varias lineas \n",
    "d\n",
    "c\n",
    "f\n",
    "'''"
   ]
  },
  {
   "cell_type": "markdown",
   "id": "c1f1284f",
   "metadata": {},
   "source": [
    "Identacion\n"
   ]
  },
  {
   "cell_type": "markdown",
   "id": "587bf016",
   "metadata": {},
   "source": [
    "Variables Globales VS Locales"
   ]
  },
  {
   "cell_type": "code",
   "execution_count": null,
   "id": "15d9a381",
   "metadata": {},
   "outputs": [
    {
     "name": "stdout",
     "output_type": "stream",
     "text": [
      "10\n"
     ]
    }
   ],
   "source": [
    "x_global = 10 \n",
    "def myfuction():\n",
    "    print(x_global)\n",
    "    \n",
    "myfuction()"
   ]
  },
  {
   "cell_type": "markdown",
   "id": "e2d763c4",
   "metadata": {},
   "source": [
    "TIPOS DA DATOS"
   ]
  },
  {
   "cell_type": "code",
   "execution_count": 6,
   "id": "2cfd7f46",
   "metadata": {},
   "outputs": [],
   "source": [
    "#string\n",
    "texto = \"esto es un string\""
   ]
  },
  {
   "cell_type": "code",
   "execution_count": 7,
   "id": "e67cdd70",
   "metadata": {},
   "outputs": [],
   "source": [
    "#nmericos \n",
    "int_num = 2\n",
    "float_num = 2.4\n",
    "complex_num = 2j"
   ]
  },
  {
   "cell_type": "code",
   "execution_count": 9,
   "id": "0a9e4df4",
   "metadata": {},
   "outputs": [],
   "source": [
    "#boolean \n",
    "c = True\n",
    "v = False"
   ]
  },
  {
   "cell_type": "markdown",
   "id": "dc528e0b",
   "metadata": {},
   "source": [
    "LISTA DE DATOS \n"
   ]
  },
  {
   "cell_type": "code",
   "execution_count": 10,
   "id": "bbd55e0d",
   "metadata": {},
   "outputs": [],
   "source": [
    "# las listas de datos son mutables "
   ]
  },
  {
   "cell_type": "code",
   "execution_count": 13,
   "id": "43960541",
   "metadata": {},
   "outputs": [],
   "source": [
    "mylist = [\"d\",\"g\",\"h\"]"
   ]
  },
  {
   "cell_type": "code",
   "execution_count": 14,
   "id": "2d7274b7",
   "metadata": {},
   "outputs": [
    {
     "name": "stdout",
     "output_type": "stream",
     "text": [
      "['u', 'u', 'i']\n"
     ]
    }
   ],
   "source": [
    "my_list_range = [\"d\",\"f\", \"u\", \"u\", \"i\", \"uu\",\"w\"]\n",
    "print(my_list_range[2:5])"
   ]
  },
  {
   "cell_type": "code",
   "execution_count": null,
   "id": "5b2b5d22",
   "metadata": {},
   "outputs": [],
   "source": []
  }
 ],
 "metadata": {
  "kernelspec": {
   "display_name": "Python 3",
   "language": "python",
   "name": "python3"
  },
  "language_info": {
   "codemirror_mode": {
    "name": "ipython",
    "version": 3
   },
   "file_extension": ".py",
   "mimetype": "text/x-python",
   "name": "python",
   "nbconvert_exporter": "python",
   "pygments_lexer": "ipython3",
   "version": "3.12.1"
  }
 },
 "nbformat": 4,
 "nbformat_minor": 5
}
